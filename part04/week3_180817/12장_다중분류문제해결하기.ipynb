{
 "cells": [
  {
   "cell_type": "markdown",
   "metadata": {},
   "source": [
    "# 12장  다중 분류 문제 해결하기\n",
    "\n",
    "\n",
    "###  [실습]  아이리스 품종 예측\n",
    "\n",
    "### 1 |  다중 분류 문제\n",
    "### 2 |  상관도 그래프\n",
    "### 3 |  원-핫 인코딩\n",
    "### 4 |  소프트맥스\n",
    "### 5 |  아이리스 품종 예측 실행\n"
   ]
  },
  {
   "cell_type": "code",
   "execution_count": 11,
   "metadata": {},
   "outputs": [
    {
     "name": "stdout",
     "output_type": "stream",
     "text": [
      "Collecting tensorflow\n",
      "  Downloading https://files.pythonhosted.org/packages/0e/2a/c3fe6035f0a8726e5b210680af3ccaf826f4a64ce7306e57017aba749447/tensorflow-1.10.0-cp36-cp36m-win_amd64.whl (37.7MB)\n",
      "Requirement already satisfied: six>=1.10.0 in c:\\anaconda3\\lib\\site-packages (from tensorflow)\n",
      "Collecting tensorboard<1.11.0,>=1.10.0 (from tensorflow)\n",
      "  Downloading https://files.pythonhosted.org/packages/c6/17/ecd918a004f297955c30b4fffbea100b1606c225dbf0443264012773c3ff/tensorboard-1.10.0-py3-none-any.whl (3.3MB)\n",
      "Collecting gast>=0.2.0 (from tensorflow)\n",
      "Requirement already satisfied: wheel>=0.26 in c:\\anaconda3\\lib\\site-packages (from tensorflow)\n",
      "Collecting astor>=0.6.0 (from tensorflow)\n",
      "  Downloading https://files.pythonhosted.org/packages/35/6b/11530768cac581a12952a2aad00e1526b89d242d0b9f59534ef6e6a1752f/astor-0.7.1-py2.py3-none-any.whl\n",
      "Collecting absl-py>=0.1.6 (from tensorflow)\n",
      "  Downloading https://files.pythonhosted.org/packages/cc/e6/6cc5c834023685dd83a28bdb5c1826d9340111493a447e9a9230269defa8/absl-py-0.4.0.tar.gz (88kB)\n",
      "Collecting protobuf>=3.6.0 (from tensorflow)\n",
      "  Downloading https://files.pythonhosted.org/packages/e8/df/d606d07cff0fc8d22abcc54006c0247002d11a7f2d218eb008d48e76851d/protobuf-3.6.1-cp36-cp36m-win_amd64.whl (1.1MB)\n",
      "Collecting termcolor>=1.1.0 (from tensorflow)\n",
      "Requirement already satisfied: setuptools<=39.1.0 in c:\\anaconda3\\lib\\site-packages (from tensorflow)\n",
      "Requirement already satisfied: numpy<=1.14.5,>=1.13.3 in c:\\anaconda3\\lib\\site-packages (from tensorflow)\n",
      "Collecting grpcio>=1.8.6 (from tensorflow)\n",
      "  Downloading https://files.pythonhosted.org/packages/f0/b8/cd13f956c290df74e5ff2b549f4afb090c06326d597101d4db3f9b4308eb/grpcio-1.14.1-cp36-cp36m-win_amd64.whl (1.5MB)\n",
      "Collecting markdown>=2.6.8 (from tensorboard<1.11.0,>=1.10.0->tensorflow)\n",
      "  Using cached https://files.pythonhosted.org/packages/6d/7d/488b90f470b96531a3f5788cf12a93332f543dbab13c423a5e7ce96a0493/Markdown-2.6.11-py2.py3-none-any.whl\n",
      "Requirement already satisfied: werkzeug>=0.11.10 in c:\\anaconda3\\lib\\site-packages (from tensorboard<1.11.0,>=1.10.0->tensorflow)\n",
      "Building wheels for collected packages: absl-py\n",
      "  Running setup.py bdist_wheel for absl-py: started\n",
      "  Running setup.py bdist_wheel for absl-py: finished with status 'done'\n",
      "  Stored in directory: C:\\Users\\Y.G JI\\AppData\\Local\\pip\\Cache\\wheels\\59\\23\\a2\\6a23b5ce3040b3dbb7ce5c21fa135ddae15c2966bf4a32836c\n",
      "Successfully built absl-py\n",
      "Installing collected packages: protobuf, markdown, tensorboard, gast, astor, absl-py, termcolor, grpcio, tensorflow\n",
      "Successfully installed absl-py-0.4.0 astor-0.7.1 gast-0.2.0 grpcio-1.14.1 markdown-2.6.11 protobuf-3.6.1 tensorboard-1.10.0 tensorflow-1.10.0 termcolor-1.1.0\n"
     ]
    },
    {
     "name": "stderr",
     "output_type": "stream",
     "text": [
      "You are using pip version 9.0.1, however version 18.0 is available.\n",
      "You should consider upgrading via the 'python -m pip install --upgrade pip' command.\n"
     ]
    }
   ],
   "source": [
    "!pip install tensorflow\n"
   ]
  },
  {
   "cell_type": "code",
   "execution_count": 12,
   "metadata": {},
   "outputs": [
    {
     "name": "stdout",
     "output_type": "stream",
     "text": [
      "Collecting keras\n",
      "  Downloading https://files.pythonhosted.org/packages/34/7d/b1dedde8af99bd82f20ed7e9697aac0597de3049b1f786aa2aac3b9bd4da/Keras-2.2.2-py2.py3-none-any.whl (299kB)\n",
      "Collecting keras-applications==1.0.4 (from keras)\n",
      "  Downloading https://files.pythonhosted.org/packages/54/90/8f327deaa37a71caddb59b7b4aaa9d4b3e90c0e76f8c2d1572005278ddc5/Keras_Applications-1.0.4-py2.py3-none-any.whl (43kB)\n",
      "Requirement already satisfied: numpy>=1.9.1 in c:\\anaconda3\\lib\\site-packages (from keras)\n",
      "Requirement already satisfied: pyyaml in c:\\anaconda3\\lib\\site-packages (from keras)\n",
      "Requirement already satisfied: scipy>=0.14 in c:\\anaconda3\\lib\\site-packages (from keras)\n",
      "Collecting keras-preprocessing==1.0.2 (from keras)\n",
      "  Downloading https://files.pythonhosted.org/packages/71/26/1e778ebd737032749824d5cba7dbd3b0cf9234b87ab5ec79f5f0403ca7e9/Keras_Preprocessing-1.0.2-py2.py3-none-any.whl\n",
      "Requirement already satisfied: six>=1.9.0 in c:\\anaconda3\\lib\\site-packages (from keras)\n",
      "Requirement already satisfied: h5py in c:\\anaconda3\\lib\\site-packages (from keras)\n",
      "Installing collected packages: keras-applications, keras-preprocessing, keras\n",
      "Successfully installed keras-2.2.2 keras-applications-1.0.4 keras-preprocessing-1.0.2\n"
     ]
    },
    {
     "name": "stderr",
     "output_type": "stream",
     "text": [
      "You are using pip version 9.0.1, however version 18.0 is available.\n",
      "You should consider upgrading via the 'python -m pip install --upgrade pip' command.\n"
     ]
    }
   ],
   "source": [
    "!pip install keras"
   ]
  },
  {
   "cell_type": "markdown",
   "metadata": {},
   "source": [
    "---\n",
    "\n",
    "##  1. 다중분류 문제 \n",
    "\n",
    "실습 데이터 아이리스 품종 예측 : dataset/iris.csv\n",
    "\n",
    "- https://github.com/gilbutITbook/006958\n",
    "- https://raw.githubusercontent.com/gilbutITbook/006958/master/deeplearning/dataset/iris.csv"
   ]
  },
  {
   "cell_type": "code",
   "execution_count": 4,
   "metadata": {},
   "outputs": [
    {
     "name": "stderr",
     "output_type": "stream",
     "text": [
      "SYSTEM_WGETRC = c:/progra~1/wget/etc/wgetrc\n",
      "syswgetrc = C:\\Program Files (x86)\\GnuWin32/etc/wgetrc\n",
      "--2018-08-15 19:27:26--  https://raw.githubusercontent.com/gilbutITbook/006958/master/deeplearning/dataset/iris.csv\n",
      "Resolving raw.githubusercontent.com... 151.101.0.133, 151.101.64.133, 151.101.128.133, ...\n",
      "Connecting to raw.githubusercontent.com|151.101.0.133|:443... connected.\n",
      "WARNING: cannot verify raw.githubusercontent.com's certificate, issued by `/C=US/O=DigiCert Inc/OU=www.digicert.com/CN=DigiCert SHA2 High Assurance Server CA':\n",
      "  Unable to locally verify the issuer's authority.\n",
      "WARNING: certificate common name `www.github.com' doesn't match requested host name `raw.githubusercontent.com'.\n",
      "HTTP request sent, awaiting response... 200 OK\n",
      "Length: 4551 (4.4K) [text/plain]\n",
      "Saving to: `iris.csv'\n",
      "\n",
      "     0K ....                                                  100% 13.9M=0s\n",
      "\n",
      "2018-08-15 19:27:26 (13.9 MB/s) - `iris.csv' saved [4551/4551]\n",
      "\n"
     ]
    }
   ],
   "source": [
    "!wget --no-check-certificate https://raw.githubusercontent.com/gilbutITbook/006958/master/deeplearning/dataset/iris.csv"
   ]
  },
  {
   "cell_type": "code",
   "execution_count": 5,
   "metadata": {},
   "outputs": [
    {
     "name": "stdout",
     "output_type": "stream",
     "text": [
      " D 드라이브의 볼륨에는 이름이 없습니다.\n",
      " 볼륨 일련 번호: 9495-1634\n",
      "\n",
      " D:\\Work_Git\\DeepMenia\\part04\\week3_180817 디렉터리\n",
      "\n",
      "2018-08-15  오후 07:27    <DIR>          .\n",
      "2018-08-15  오후 07:27    <DIR>          ..\n",
      "2018-08-15  오후 07:22    <DIR>          .ipynb_checkpoints\n",
      "2018-08-15  오후 07:27             2,561 12장_다중분류문제해결하기.ipynb\n",
      "2018-08-15  오후 07:27             4,551 iris.csv\n",
      "               2개 파일               7,112 바이트\n",
      "               3개 디렉터리  39,786,573,824 바이트 남음\n"
     ]
    }
   ],
   "source": [
    "! dir "
   ]
  },
  {
   "cell_type": "markdown",
   "metadata": {},
   "source": [
    "- 아이리스는 그 꽃봉오리가 마치 먹물을 머금은 붓과 같다 하여 우리나라에서 ‘붓꽃’이라고 불리우는 아름다운 꽃\n",
    "- 아이리스는 꽃잎의 모양과 길이에 따라 여러 가지 품종으로 나뉨\n",
    "- 사진을 보면 품종마다 비슷해 보임\n",
    "- 과연 딥러닝을 사용하여 이들을 구별해 낼 수 있을까?\n",
    "\n",
    "![붓꽃이미지](01.jpg)"
   ]
  },
  {
   "cell_type": "markdown",
   "metadata": {},
   "source": [
    "- UCI 머신러닝 저장소에서 아이리스 품종 예측 데이터를 제공하지만, github에서 다운로드함.\n",
    "\n",
    "- 데이터의 구조는 다음과 같음\n",
    "\n",
    "![iris](02.jpg)\n",
    "- 아이리스 데이터의 샘플, 속성, 클래스 구분\n",
    "\n",
    "\n",
    "![iris](03.jpg)\n",
    "- 속성을 보니 우리가 앞서 다루었던 것과 중요한 차이가 있음\n",
    "- 바로 클래스가 2개가 아니라 3개\n",
    "- 즉, 참(1)과 거짓(0)으로 해결하는 것이 아니라, 여러 개 중에 어떤 것이 답인지를 예측하는 문제\n",
    "\n",
    "\n",
    "- 이렇게 여러 개의 답 중 하나를 고르는 분류 문제를 다중 분류(multi classification) 라고 함\n",
    "- 다중 분류 문제는 둘 중에 하나를 고르는 이항 분류(binary classification)와는 \u000b",
    "접근 방식이 조금 다름\n",
    "- 지금부터 아이리스 품종을 예측하 는 실습을 통해 다중 분류 문제를 해결해 보자 \n",
    "\n"
   ]
  },
  {
   "cell_type": "markdown",
   "metadata": {},
   "source": [
    "---\n",
    "\n",
    "##  2. 상관도 그래프 \n",
    "\n",
    "먼저 데이터의 일부를 불러와 내용을 보자\n"
   ]
  },
  {
   "cell_type": "code",
   "execution_count": 7,
   "metadata": {},
   "outputs": [
    {
     "name": "stdout",
     "output_type": "stream",
     "text": [
      "   sepal_length  sepal_width  petal_length  petal_width      species\n",
      "0           5.1          3.5           1.4          0.2  Iris-setosa\n",
      "1           4.9          3.0           1.4          0.2  Iris-setosa\n",
      "2           4.7          3.2           1.3          0.2  Iris-setosa\n",
      "3           4.6          3.1           1.5          0.2  Iris-setosa\n",
      "4           5.0          3.6           1.4          0.2  Iris-setosa\n"
     ]
    }
   ],
   "source": [
    "import pandas as pd\n",
    "df = pd.read_csv('iris.csv', names = [\"sepal_length\", \"sepal_width\", \"petal_length\", \"petal_width\", \"species\"])\n",
    "print(df.head())\n"
   ]
  },
  {
   "cell_type": "markdown",
   "metadata": {},
   "source": [
    "pairplot() 함수를 써서 데이터 전체를 한번에 보는 그래프를 다음과 같이 출력"
   ]
  },
  {
   "cell_type": "code",
   "execution_count": 9,
   "metadata": {},
   "outputs": [
    {
     "data": {
      "image/png": "[encoded data removed]",
      "text/plain": [
       "<matplotlib.figure.Figure at 0x1f2667c7710>"
      ]
     },
     "metadata": {},
     "output_type": "display_data"
    }
   ],
   "source": [
    "import seaborn as sns\n",
    "import matplotlib.pyplot as plt\n",
    "\n",
    "sns.pairplot(df, hue='species');\n",
    "plt.show()"
   ]
  },
  {
   "cell_type": "markdown",
   "metadata": {},
   "source": [
    "- 그래프를 보니, 사진으로 볼 때는 비슷해 보이던 꽃잎과 꽃받침의 크기와 넓이가 품종별로 차이가 있음을 알 수 있음\n",
    "- 이렇게 속성별로 어떤 연관이 있는지를 보여 주는 상관도 그래프를 통해 프로젝트의 감을 잡고 프로그램 전략을 세울 수 있음\n"
   ]
  },
  {
   "cell_type": "markdown",
   "metadata": {},
   "source": [
    "---\n",
    "\n",
    "## 3.  원-핫 인코딩\n",
    "\n",
    "\n",
    "- 이제 케라스를 이용해 아이리스의 품종을 예측해 보자\n",
    "- Iris-setosa, Iris-virginica 등 데이터 안에 문자열이 포함되어 있음\n",
    "- 이럴 땐 numpy보다는 panda로 데이터를 불러와 X와 Y 값을 구분하는 것이 좋음"
   ]
  },
  {
   "cell_type": "code",
   "execution_count": 21,
   "metadata": {},
   "outputs": [
    {
     "name": "stdout",
     "output_type": "stream",
     "text": [
      "['Iris-setosa' 'Iris-setosa' 'Iris-setosa' 'Iris-setosa' 'Iris-setosa'\n",
      " 'Iris-setosa' 'Iris-setosa' 'Iris-setosa' 'Iris-setosa']\n"
     ]
    }
   ],
   "source": [
    "df = pd.read_csv('iris.csv', names = [\"sepal_length\", \"sepal_width\", \"petal_length\", \"petal_width\", \"species\"])\n",
    "\n",
    "dataset = df.values\n",
    "X = dataset[:,0:4].astype(float)\n",
    "Y_obj = dataset[:,4]\n",
    "print(Y_obj[ 1:10 ])"
   ]
  },
  {
   "cell_type": "markdown",
   "metadata": {},
   "source": [
    "- Y 값이 이번에는 숫자가 아니라 문자열\n",
    "- 문자열을 숫자로 바꿔 주려면 클래스 이름을 숫자 형태로 바꿔 주어야 함\n",
    "- 이를 가능하게 하는 함수가 sklearn 라이브러리의 LabelEncoder()"
   ]
  },
  {
   "cell_type": "code",
   "execution_count": 15,
   "metadata": {},
   "outputs": [
    {
     "data": {
      "text/plain": [
       "array([0, 0, 0, 0, 0, 0, 0, 0, 0, 0, 0, 0, 0, 0, 0, 0, 0, 0, 0, 0, 0, 0,\n",
       "       0, 0, 0, 0, 0, 0, 0, 0, 0, 0, 0, 0, 0, 0, 0, 0, 0, 0, 0, 0, 0, 0,\n",
       "       0, 0, 0, 0, 0, 0, 1, 1, 1, 1, 1, 1, 1, 1, 1, 1, 1, 1, 1, 1, 1, 1,\n",
       "       1, 1, 1, 1, 1, 1, 1, 1, 1, 1, 1, 1, 1, 1, 1, 1, 1, 1, 1, 1, 1, 1,\n",
       "       1, 1, 1, 1, 1, 1, 1, 1, 1, 1, 1, 1, 2, 2, 2, 2, 2, 2, 2, 2, 2, 2,\n",
       "       2, 2, 2, 2, 2, 2, 2, 2, 2, 2, 2, 2, 2, 2, 2, 2, 2, 2, 2, 2, 2, 2,\n",
       "       2, 2, 2, 2, 2, 2, 2, 2, 2, 2, 2, 2, 2, 2, 2, 2, 2, 2], dtype=int64)"
      ]
     },
     "execution_count": 15,
     "metadata": {},
     "output_type": "execute_result"
    }
   ],
   "source": [
    "from sklearn.preprocessing import LabelEncoder\n",
    "\n",
    "e = LabelEncoder()\n",
    "e.fit(Y_obj)\n",
    "Y = e.transform(Y_obj)\n",
    "Y"
   ]
  },
  {
   "cell_type": "markdown",
   "metadata": {},
   "source": [
    "- 이렇게 하면 array(['Iris-setosa', 'Iris-versicolor','Iris-virginica'])가 array([1,2,3])로 바뀜\n",
    "\n",
    "- 활성화 함수를 적용하려면 Y 값이 숫자 0과 1로 이루어져 있어야 함\n",
    "- 이 조건을 만족시키려면 keras.util의 np_utils.categorical() 함수를 적용해야 함\n",
    "- 이에 따라 Y 값의 형태는 다음과 같이 변형됨\n",
    "\n"
   ]
  },
  {
   "cell_type": "code",
   "execution_count": 22,
   "metadata": {},
   "outputs": [
    {
     "name": "stderr",
     "output_type": "stream",
     "text": [
      "C:\\Anaconda3\\lib\\site-packages\\h5py\\__init__.py:36: FutureWarning: Conversion of the second argument of issubdtype from `float` to `np.floating` is deprecated. In future, it will be treated as `np.float64 == np.dtype(float).type`.\n",
      "  from ._conv import register_converters as _register_converters\n",
      "Using TensorFlow backend.\n"
     ]
    }
   ],
   "source": [
    "from keras.utils import np_utils\n",
    "\n",
    "Y_encoded = np_utils.to_categorical(Y)"
   ]
  },
  {
   "cell_type": "code",
   "execution_count": 26,
   "metadata": {},
   "outputs": [
    {
     "data": {
      "text/plain": [
       "array([[1., 0., 0.],\n",
       "       [1., 0., 0.],\n",
       "       [1., 0., 0.],\n",
       "       [1., 0., 0.],\n",
       "       [1., 0., 0.],\n",
       "       [1., 0., 0.],\n",
       "       [1., 0., 0.],\n",
       "       [1., 0., 0.],\n",
       "       [1., 0., 0.],\n",
       "       [1., 0., 0.]], dtype=float32)"
      ]
     },
     "execution_count": 26,
     "metadata": {},
     "output_type": "execute_result"
    }
   ],
   "source": [
    "Y_encoded[ : 10 ]"
   ]
  },
  {
   "cell_type": "code",
   "execution_count": 27,
   "metadata": {},
   "outputs": [
    {
     "data": {
      "text/plain": [
       "array([[0., 0., 1.],\n",
       "       [0., 0., 1.],\n",
       "       [0., 0., 1.],\n",
       "       [0., 0., 1.],\n",
       "       [0., 0., 1.],\n",
       "       [0., 0., 1.],\n",
       "       [0., 0., 1.],\n",
       "       [0., 0., 1.],\n",
       "       [0., 0., 1.],\n",
       "       [0., 0., 1.]], dtype=float32)"
      ]
     },
     "execution_count": 27,
     "metadata": {},
     "output_type": "execute_result"
    }
   ],
   "source": [
    "Y_encoded[ -10 : ]"
   ]
  },
  {
   "cell_type": "markdown",
   "metadata": {},
   "source": [
    "- 이렇게 하면 array([1,2,3])가 다시 array([[1., 0., 0.], [0., 1., 0.],[0., 0., 1.]])로 바뀜\n",
    "- 이처럼 여러 개의 Y 값을 0과 1로만 이루어진 형태로 바꿔 주는 기법을 **원-핫 인코딩(one-hot-encoding)** 이라고 함\n"
   ]
  },
  {
   "cell_type": "markdown",
   "metadata": {},
   "source": [
    "---\n",
    "\n",
    "## 4. 소프트맥스\n",
    "\n",
    "\n",
    "이제 모델을 만들어 보자"
   ]
  },
  {
   "cell_type": "markdown",
   "metadata": {},
   "source": [
    "> model = Sequential()\n",
    "\n",
    "> model.add(Dense(16, input_dim=4, activation='relu'))\n",
    "\n",
    "> model.add(Dense(3, activation='softmax'))"
   ]
  },
  {
   "cell_type": "markdown",
   "metadata": {},
   "source": [
    "- 여기서 달라진 점이 있음\n",
    "- 먼저 최종 출력 값이 3개 중 하나여야 하므로 출력층에 해당하는 Dense의 노드수를 3으로 설정함\n",
    "- 또한, 활성화 함수로 앞서 나오지 않았던 소프트맥스(softmax)를 사용해 보자\n"
   ]
  },
  {
   "cell_type": "markdown",
   "metadata": {},
   "source": [
    "- 소프트맥스는 그림 12-3에서와 같이 총합이 1인 형태로 바꿔서 계산해 주는 함수\n",
    "- 합계가 1인 형태로 변환하면 큰 값이 두드러지게 나타나고 작은 값은 더 작아짐\n",
    "- 이 값이 교차 엔트로피를 지나 [1., 0., 0.]으로 변화하게 되면 우리가 원하는 원-핫 인코딩 값, 즉 하나만 1이고 나머지는 모두 0인 형태로 전환시킬 수 있음\n",
    "![붓꽃이미지](04.jpg)\n",
    "\n",
    "- 이제 다중 분류에 적절한 오차 함수인 categorical_crossentropy를 사용하고, \u000b",
    "최적화 함수로 adam을 사용해 보자\n",
    "- 전체 샘플이 50회 반복될 때까지 실험을 진행하되 한 번에 입력되는 값은 1개 종합하면 다음과 같은 프로그램이 완성됨\n"
   ]
  },
  {
   "cell_type": "markdown",
   "metadata": {},
   "source": [
    "---\n",
    "\n",
    "## 5.아이리스 품종 예측 실행"
   ]
  },
  {
   "cell_type": "code",
   "execution_count": 31,
   "metadata": {},
   "outputs": [],
   "source": [
    "from keras.models import Sequential\n",
    "from keras.layers.core import Dense\n",
    "from keras.utils import np_utils\n",
    "from sklearn.preprocessing import LabelEncoder\n",
    "\n",
    "import pandas as pd\n",
    "import seaborn as sns\n",
    "import matplotlib.pyplot as plt\n",
    "import numpy\n",
    "import tensorflow as tf\n",
    "\n",
    "# seed 값 설정\n",
    "seed = 0\n",
    "numpy.random.seed(seed)\n",
    "tf.set_random_seed(seed)"
   ]
  },
  {
   "cell_type": "code",
   "execution_count": 32,
   "metadata": {},
   "outputs": [],
   "source": [
    "# 데이터 입력\n",
    "#df = pd.read_csv('iris.csv', names = [\"sepal_length\", \"sepal_width\", \"petal_length\", \"petal_width\", \"species\"])\n",
    "\n",
    "# 그래프로 확인\n",
    "#sns.pairplot(df, hue='species');\n",
    "#plt.show()\n",
    "\n",
    "# 데이터 분류\n",
    "#dataset = df.values\n",
    "#X = dataset[:,0:4].astype(float)\n",
    "#Y_obj = dataset[:,4]\n",
    "\n",
    "# 문자열을 숫자로 변환\n",
    "#e = LabelEncoder()\n",
    "#e.fit(Y_obj)\n",
    "#Y = e.transform(Y_obj)\n",
    "#Y_encoded = np_utils.to_categorical(Y)\n"
   ]
  },
  {
   "cell_type": "code",
   "execution_count": 33,
   "metadata": {},
   "outputs": [
    {
     "name": "stdout",
     "output_type": "stream",
     "text": [
      "Epoch 1/50\n",
      "150/150 [==============================] - 0s 3ms/step - loss: 1.6267 - acc: 0.3267\n",
      "Epoch 2/50\n",
      "150/150 [==============================] - 0s 1ms/step - loss: 1.1399 - acc: 0.4867\n",
      "Epoch 3/50\n",
      "150/150 [==============================] - 0s 1ms/step - loss: 0.9403 - acc: 0.4600\n",
      "Epoch 4/50\n",
      "150/150 [==============================] - 0s 1ms/step - loss: 0.7889 - acc: 0.7467\n",
      "Epoch 5/50\n",
      "150/150 [==============================] - 0s 1ms/step - loss: 0.6662 - acc: 0.7267\n",
      "Epoch 6/50\n",
      "150/150 [==============================] - 0s 1ms/step - loss: 0.5631 - acc: 0.8800\n",
      "Epoch 7/50\n",
      "150/150 [==============================] - 0s 1ms/step - loss: 0.5078 - acc: 0.8267\n",
      "Epoch 8/50\n",
      "150/150 [==============================] - 0s 1ms/step - loss: 0.4555 - acc: 0.9333\n",
      "Epoch 9/50\n",
      "150/150 [==============================] - 0s 1ms/step - loss: 0.4285 - acc: 0.8867\n",
      "Epoch 10/50\n",
      "150/150 [==============================] - 0s 1ms/step - loss: 0.4068 - acc: 0.8867\n",
      "Epoch 11/50\n",
      "150/150 [==============================] - 0s 1ms/step - loss: 0.3851 - acc: 0.9333\n",
      "Epoch 12/50\n",
      "150/150 [==============================] - 0s 1ms/step - loss: 0.3676 - acc: 0.9467\n",
      "Epoch 13/50\n",
      "150/150 [==============================] - 0s 1ms/step - loss: 0.3504 - acc: 0.9467\n",
      "Epoch 14/50\n",
      "150/150 [==============================] - 0s 1ms/step - loss: 0.3366 - acc: 0.9067\n",
      "Epoch 15/50\n",
      "150/150 [==============================] - 0s 1ms/step - loss: 0.3264 - acc: 0.9333\n",
      "Epoch 16/50\n",
      "150/150 [==============================] - 0s 1ms/step - loss: 0.3135 - acc: 0.9533\n",
      "Epoch 17/50\n",
      "150/150 [==============================] - 0s 1ms/step - loss: 0.3059 - acc: 0.9533\n",
      "Epoch 18/50\n",
      "150/150 [==============================] - 0s 1ms/step - loss: 0.2964 - acc: 0.9667\n",
      "Epoch 19/50\n",
      "150/150 [==============================] - 0s 1ms/step - loss: 0.2853 - acc: 0.9333\n",
      "Epoch 20/50\n",
      "150/150 [==============================] - 0s 1ms/step - loss: 0.2760 - acc: 0.9600\n",
      "Epoch 21/50\n",
      "150/150 [==============================] - 0s 1ms/step - loss: 0.2677 - acc: 0.9733\n",
      "Epoch 22/50\n",
      "150/150 [==============================] - 0s 1ms/step - loss: 0.2608 - acc: 0.9667\n",
      "Epoch 23/50\n",
      "150/150 [==============================] - 0s 1ms/step - loss: 0.2528 - acc: 0.9467\n",
      "Epoch 24/50\n",
      "150/150 [==============================] - 0s 1ms/step - loss: 0.2436 - acc: 0.9600\n",
      "Epoch 25/50\n",
      "150/150 [==============================] - 0s 1ms/step - loss: 0.2360 - acc: 0.9733\n",
      "Epoch 26/50\n",
      "150/150 [==============================] - 0s 1ms/step - loss: 0.2337 - acc: 0.9667\n",
      "Epoch 27/50\n",
      "150/150 [==============================] - 0s 1ms/step - loss: 0.2194 - acc: 0.9867\n",
      "Epoch 28/50\n",
      "150/150 [==============================] - 0s 1ms/step - loss: 0.2205 - acc: 0.9467\n",
      "Epoch 29/50\n",
      "150/150 [==============================] - 0s 1ms/step - loss: 0.2142 - acc: 0.9667\n",
      "Epoch 30/50\n",
      "150/150 [==============================] - 0s 1ms/step - loss: 0.1999 - acc: 0.9600\n",
      "Epoch 31/50\n",
      "150/150 [==============================] - 0s 1ms/step - loss: 0.1999 - acc: 0.9733\n",
      "Epoch 32/50\n",
      "150/150 [==============================] - 0s 1ms/step - loss: 0.1970 - acc: 0.9667\n",
      "Epoch 33/50\n",
      "150/150 [==============================] - 0s 1ms/step - loss: 0.1881 - acc: 0.9733\n",
      "Epoch 34/50\n",
      "150/150 [==============================] - 0s 1ms/step - loss: 0.1806 - acc: 0.9667\n",
      "Epoch 35/50\n",
      "150/150 [==============================] - 0s 2ms/step - loss: 0.1851 - acc: 0.9667\n",
      "Epoch 36/50\n",
      "150/150 [==============================] - 0s 1ms/step - loss: 0.1742 - acc: 0.9800\n",
      "Epoch 37/50\n",
      "150/150 [==============================] - 0s 1ms/step - loss: 0.1684 - acc: 0.9733\n",
      "Epoch 38/50\n",
      "150/150 [==============================] - 0s 1ms/step - loss: 0.1645 - acc: 0.9733\n",
      "Epoch 39/50\n",
      "150/150 [==============================] - 0s 2ms/step - loss: 0.1621 - acc: 0.9733\n",
      "Epoch 40/50\n",
      "150/150 [==============================] - 0s 1ms/step - loss: 0.1560 - acc: 0.9667\n",
      "Epoch 41/50\n",
      "150/150 [==============================] - 0s 1ms/step - loss: 0.1564 - acc: 0.9667\n",
      "Epoch 42/50\n",
      "150/150 [==============================] - 0s 1ms/step - loss: 0.1525 - acc: 0.9667\n",
      "Epoch 43/50\n",
      "150/150 [==============================] - 0s 1ms/step - loss: 0.1434 - acc: 0.9667\n",
      "Epoch 44/50\n",
      "150/150 [==============================] - 0s 2ms/step - loss: 0.1442 - acc: 0.9533\n",
      "Epoch 45/50\n",
      "150/150 [==============================] - 0s 1ms/step - loss: 0.1418 - acc: 0.9800\n",
      "Epoch 46/50\n",
      "150/150 [==============================] - 0s 1ms/step - loss: 0.1449 - acc: 0.9600\n",
      "Epoch 47/50\n",
      "150/150 [==============================] - 0s 1ms/step - loss: 0.1349 - acc: 0.9667\n",
      "Epoch 48/50\n",
      "150/150 [==============================] - 0s 991us/step - loss: 0.1351 - acc: 0.9800\n",
      "Epoch 49/50\n",
      "150/150 [==============================] - 0s 991us/step - loss: 0.1332 - acc: 0.9667\n",
      "Epoch 50/50\n",
      "150/150 [==============================] - 0s 1ms/step - loss: 0.1284 - acc: 0.9667\n",
      "150/150 [==============================] - 0s 259us/step\n",
      "\n",
      " Accuracy: 0.9733\n"
     ]
    }
   ],
   "source": [
    "# 모델의 설정\n",
    "model = Sequential()\n",
    "model.add(Dense(16, input_dim=4, activation='relu'))\n",
    "model.add(Dense(3, activation='softmax'))\n",
    "\n",
    "# 모델 컴파일 \n",
    "model.compile(loss='categorical_crossentropy', \n",
    "              optimizer='adam',\n",
    "              metrics=['accuracy'])\n",
    "\n",
    "# 모델 실행\n",
    "model.fit(X, Y_encoded, epochs=50, batch_size=1)\n",
    "\n",
    "# 결과 출력 \n",
    "print(\"\\n Accuracy: %.4f\" % (model.evaluate(X, Y_encoded)[1]))"
   ]
  },
  {
   "cell_type": "markdown",
   "metadata": {},
   "source": [
    "- 예측 정확도가 97.33%로 측정됨\n",
    "- 이는 150개의 샘플을 한 번씩 테스트한 결과 146개의 품종을 정확히 맞추는 확률"
   ]
  }
 ],
 "metadata": {
  "kernelspec": {
   "display_name": "Python 3",
   "language": "python",
   "name": "python3"
  },
  "language_info": {
   "codemirror_mode": {
    "name": "ipython",
    "version": 3
   },
   "file_extension": ".py",
   "mimetype": "text/x-python",
   "name": "python",
   "nbconvert_exporter": "python",
   "pygments_lexer": "ipython3",
   "version": "3.6.4"
  }
 },
 "nbformat": 4,
 "nbformat_minor": 2
}
